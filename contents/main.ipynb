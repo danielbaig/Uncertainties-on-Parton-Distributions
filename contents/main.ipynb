{
 "cells": [
  {
   "cell_type": "markdown",
   "id": "44005e25",
   "metadata": {},
   "source": [
    "# Data Analysis"
   ]
  },
  {
   "cell_type": "code",
   "execution_count": 1,
   "id": "3539fcc8",
   "metadata": {},
   "outputs": [],
   "source": [
    "import numpy as np\n",
    "import matplotlib.pyplot as plt\n",
    "# Disable interactive mode.\n",
    "# https://stackoverflow.com/questions/15713279/calling-pylab-savefig-without-display-in-ipython\n",
    "plt.ioff()\n",
    "\n",
    "from time import perf_counter\n",
    "\n",
    "from pathlib import Path\n",
    "pathtohere = Path()"
   ]
  },
  {
   "cell_type": "code",
   "execution_count": 2,
   "id": "40309169",
   "metadata": {},
   "outputs": [],
   "source": [
    "from pyDataAnalysis.readData import *\n",
    "\n",
    "from pyDataAnalysis.photon import Photon\n",
    "from pyDataAnalysis.Zboson import Zboson\n",
    "from pyDataAnalysis.Worders.Wboson_LO import Wboson_LO\n",
    "from pyDataAnalysis.Worders.Wboson_NLO import Wboson_NLO"
   ]
  },
  {
   "cell_type": "code",
   "execution_count": 3,
   "id": "5798b6b4",
   "metadata": {},
   "outputs": [],
   "source": [
    "def display_PDFs(xs:np.ndarray, data:np.ndarray, headings:tuple,colours:tuple,q:float, momFrac:int):\n",
    "    \"\"\"\n",
    "    Display the PDFs.\n",
    "    \n",
    "    Inputs:\n",
    "        - xs:np.ndarray: Momentum fractions the PDFs are evaluated at.\n",
    "        - data:np.ndarray: 2D array of PDFs of each used quark at all x.\n",
    "        - headings:tuple: Quark types used.\n",
    "        - colours:tuple: Graph colours.\n",
    "        - q:float: Q evaluated at.\n",
    "        - momFrac:int: Momentum fraction index 1/2.\n",
    "    \"\"\"\n",
    "    \n",
    "    fig = plt.figure(figsize=(6,6))\n",
    "    ax = fig.add_subplot()\n",
    "    divider = 1.\n",
    "    \n",
    "    for i,heading in enumerate(headings):\n",
    "        if '/' in heading:\n",
    "            divider = float(heading.split('/')[1])\n",
    "        ax.plot(xs, data[:, i] / divider, label=heading,c=colours[i],marker='.')\n",
    "        ax.grid()\n",
    "    \n",
    "    # Create appropiate labels.\n",
    "    ax.set_xlabel(f'momentum fraction / $x_{momFrac}$', fontsize=16)\n",
    "    ax.set_ylabel(r'PDF / $xf_i(x)$',fontsize=16)\n",
    "    ax.set_title(r'$Q$ =' + str(q),fontsize=16)\n",
    "    \n",
    "    ax.xaxis.set_tick_params(labelsize=14)\n",
    "    ax.yaxis.set_tick_params(labelsize=14)\n",
    "    \n",
    "    ax.legend(loc='best')\n",
    "    ax.set_xscale('log')\n",
    "    \n",
    "    plt.show()\n",
    "    \n",
    "    "
   ]
  },
  {
   "cell_type": "markdown",
   "id": "415604b9",
   "metadata": {},
   "source": [
    "### Cross section calculations\n",
    "Using $x_2 = \\frac{M^2}{sx_1}$, $y = \\frac{1}{2}\\ln\\Big(\\frac{x_1}{x_2}\\Big)$, $\\tilde{f}_q(x_i) = x_if_q(x_i)$\n",
    "\n",
    "#### $\\gamma$\n",
    "$$\n",
    "\\sigma_{\\gamma} = \\int dM^2 \\int dy\\frac{4\\pi\\alpha^2}{3M^2}\\frac{1}{Ns} \\sum\\limits_{q}\\frac{Q^2_q}{x_1x_2} \\Big(\\tilde{f}_q(x_1)\\tilde{f}_{\\bar{q}}(x_2) + \\tilde{f}_q(x_1)\\tilde{f}_{\\bar{q}}(x_2)\\Big)\n",
    "$$\n",
    "#### W\n",
    "$$\n",
    "\\sigma_W = \\int dy \\frac{\\pi}{Ns}\\sqrt{2}G_F|M_W^2||V_{q\\bar{q}}|^2\\frac{1}{x_1x_2} \\sum\\limits_{q_1}\\sum\\limits_{q_2}\\Big(\\tilde{f}_{q_1}(x_1)\\tilde{f}_{\\bar{q_2}}(x_2) + \\tilde{f}_{\\bar{q_1}}(x_1)\\tilde{f}_{q_2}(x_2)\\Big)\n",
    "$$\n",
    "#### Z\n",
    "$$\n",
    "\\sigma_Z = \\int dy \\frac{\\pi}{Ns}\\sqrt{2}G_F|M_Z^2|(|V_{q\\bar{q}}|^2 + |A_q|^2) \\frac{1}{x_1x_2}\\sum\\limits_{q}\\Big(\\tilde{f}_q(x_1)\\tilde{f}_{\\bar{q}}(x_2) + \\tilde{f}_q(x_1)\\tilde{f}_{\\bar{q}}(x_2)\\Big)\n",
    "$$\n",
    "\n",
    "\n",
    "| Sign | $W^+$ | $W^-$ |\n",
    "| --- | --- | --- |\n",
    "| Particle $x_1$ | - | + |\n",
    "| Antiparticle $x_1$ | + | - |"
   ]
  },
  {
   "cell_type": "code",
   "execution_count": 4,
   "id": "60f07f98",
   "metadata": {},
   "outputs": [],
   "source": [
    "def main():\n",
    "    LHC_s,m_W,m_Z,Qs = read_parameterFile()\n",
    "    \n",
    "    x1s, data1, qs = read_data('data/PDF1.out', m_W,m_Z,Qs)\n",
    "    x2s, data2, __ = read_data('data/PDF2.out', m_W,m_Z,Qs)\n",
    "\n",
    "    \n",
    "    headings = ('up','down','charm', 'strange','bottom','ubar','dbar','cbar',\n",
    "                'sbar','bbar','g/10')\n",
    "    colours = ('r','g','orange','b','k','c','y','pink','m','purple','lime')\n",
    "    \n",
    "    W_index = 0\n",
    "    Z_index = 1\n",
    "    W_LO = Wboson_LO(m_W*m_W, data1,data2,x1s[0],x2s,qs,W_index)\n",
    "    W_NLO = Wboson_NLO(m_W*m_W, data1,data2,x1s[0],x2s,qs,W_index)\n",
    "    Z = Zboson(m_Z*m_Z,data1,data2,x1s[0],x2s,qs,Z_index)\n",
    "    photon = Photon(m_W*m_W, m_Z*m_Z,data1,data2,x1s[0],x2s,qs,W_index,Z_index)\n",
    "    \n",
    "    # Calculate total cross-section contributions.\n",
    "    print('Calculating total cross-sections.')\n",
    "    for Wcharge in ('+','-'):\n",
    "        W_LO.calculate_W(Wcharge,cutType='pt', lowerCut=0.)\n",
    "        W_NLO.calculate_W_dx1dx2dpT(Wcharge)\n",
    "        W_NLO.calculate_W_dpT(Wcharge)\n",
    "        \n",
    "    Z.calculate_Z()\n",
    "    photon.calculate_photon()\n",
    "    print(f'W -> e + nu LO contribution: {W_LO.W} [pb]')\n",
    "    print(f'Z -> e^- + e^- contribution: {Z.Z} [pb]')\n",
    "    print(f'Photon contribution: {photon.photon} [pb]')\n",
    "\n",
    "    # Display how the differential cross-sections vary with kinematic variables.\n",
    "    print('Calculating differential cross-section variation.')\n",
    "    photon.display_photon_dm()\n",
    "\n",
    "    for Wcharge in ('+','-'):\n",
    "        W_LO.display_W(Wcharge)\n",
    "        W_NLO.display_W_dxidpT(Wcharge, 1,20)\n",
    "        W_NLO.display_W_dpT(Wcharge)\n",
    "\n",
    "    Z.display_Z()\n",
    "    \n",
    "    # Cross-section ratios.\n",
    "    print('Calculating cross-section ratio dependences.')\n",
    "    WptCuts,cs_ratios_W = W_LO.calculate_cutRatioDependence('W+')\n",
    "    W_LO.display_cutRatioDependence(WptCuts,cs_ratios_W,'W+')\n",
    "    WptCuts,cs_ratios_W = W_LO.calculate_cutRatioDependence('W-')\n",
    "    W_LO.display_cutRatioDependence(WptCuts,cs_ratios_W,'W-')\n",
    "\n",
    "    \n",
    "    # Integral visulisation.\n",
    "    print('Processing integral visulisation.')\n",
    "    for Wcharge in ('+','-'):\n",
    "        print(f'Wcharge: {Wcharge}')\n",
    "        print('LO')\n",
    "        W_LO.calculate_W_dye(Wcharge, int(1e+2), cutType='pt',\n",
    "                                                          lowerCut=0., displayContours=True)\n",
    "        W_LO.display_W_dye(Wcharge)\n",
    " \n",
    "        \n",
    "#         numThetas,cs_W_ye_int = W_LO.calculate_thetaIntegralVariation(Wcharge, minNumTheta=1e+1,\n",
    "#                                          maxNumTheta=1e+4, numThetaSamples=10)\n",
    "#         W_LO.display_thetaIntegralVariation(Wcharge,numThetas,cs_W_ye_int)\n",
    "        \n",
    "        print('NLO')\n",
    "        W_NLO.calculate_W_dye(Wcharge, int(1e+2), cutType='pt',\n",
    "                                                          lowerCut=0., displayContours=False)\n",
    "        W_NLO.display_W_dye(Wcharge)\n",
    "        \n",
    "        WptCuts,cs_ratios_e,cs_ratios_nu = W_NLO.calculate_cutRatioDependence_NLO(Wcharge)\n",
    "        W_NLO.display_cutRatioDependence_NLO(WptCuts,cs_ratios_e,cs_ratios_nu,Wcharge)\n",
    "        W_NLO.display_csratioratio(WptCuts,cs_ratios_e,cs_ratios_nu,Wcharge)\n",
    "    \n",
    "\n",
    "    \n",
    "    \n",
    "    \n",
    "    for i in range(qs.shape[0]):\n",
    "        pass\n",
    "#         display_PDFs(x1s[i],data1[i],headings,colours,qs[i], 1)\n",
    "#         display_PDFs(x2s[i],data2[i],headings,colours,qs[i], 2)\n",
    "        # display_PDFs(xs,data_f[i],headings,colours,qs[i])        \n",
    "        "
   ]
  },
  {
   "cell_type": "code",
   "execution_count": 5,
   "id": "1de21541",
   "metadata": {
    "scrolled": false
   },
   "outputs": [
    {
     "name": "stderr",
     "output_type": "stream",
     "text": [
      "C:\\Users\\02dba\\Documents\\GitHub\\Uncertainties-of-Parton-Distributions\\contents\\pyDataAnalysis\\Worders\\Wboson_NLO.py:45: RuntimeWarning: invalid value encountered in sqrt\n",
      "  self.costheta_W = np.sqrt(1 - 4*self.pTs[None,None,:]**2 *self.s_hat[:,:,None]\n"
     ]
    },
    {
     "name": "stdout",
     "output_type": "stream",
     "text": [
      "Calculating total cross-sections.\n",
      "W -> e + nu LO contribution: {'+': 5522.239210973452, '-': 2418.718488399597} [pb]\n",
      "Z -> e^- + e^- contribution: 274.4839884293284 [pb]\n",
      "Photon contribution: 56.22926677370349 [pb]\n",
      "Calculating differential cross-section variation.\n",
      "Calculating cross-section ratio dependences.\n",
      "Processing integral visulisation.\n",
      "Wcharge: +\n",
      "LO\n",
      "NLO\n"
     ]
    },
    {
     "name": "stderr",
     "output_type": "stream",
     "text": [
      "100%|██████████████████████████████████████████████████████████████████████████████████| 10/10 [08:00<00:00, 48.08s/it]\n"
     ]
    },
    {
     "name": "stdout",
     "output_type": "stream",
     "text": [
      "Wcharge: -\n",
      "LO\n",
      "NLO\n"
     ]
    },
    {
     "name": "stderr",
     "output_type": "stream",
     "text": [
      "100%|██████████████████████████████████████████████████████████████████████████████████| 10/10 [07:43<00:00, 46.37s/it]\n"
     ]
    }
   ],
   "source": [
    "if __name__=='__main__':\n",
    "    main()"
   ]
  },
  {
   "cell_type": "code",
   "execution_count": null,
   "id": "9c107d97",
   "metadata": {},
   "outputs": [],
   "source": []
  }
 ],
 "metadata": {
  "kernelspec": {
   "display_name": "Python 3 (ipykernel)",
   "language": "python",
   "name": "python3"
  },
  "language_info": {
   "codemirror_mode": {
    "name": "ipython",
    "version": 3
   },
   "file_extension": ".py",
   "mimetype": "text/x-python",
   "name": "python",
   "nbconvert_exporter": "python",
   "pygments_lexer": "ipython3",
   "version": "3.9.13"
  }
 },
 "nbformat": 4,
 "nbformat_minor": 5
}
